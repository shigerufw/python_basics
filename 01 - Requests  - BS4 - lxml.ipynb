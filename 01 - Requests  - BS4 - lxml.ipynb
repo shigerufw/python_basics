{
 "cells": [
  {
   "cell_type": "code",
   "execution_count": 5,
   "metadata": {},
   "outputs": [],
   "source": [
    "import requests\n",
    "import lxml\n",
    "from bs4 import BeautifulSoup"
   ]
  },
  {
   "cell_type": "markdown",
   "metadata": {},
   "source": [
    "### Open as Html"
   ]
  },
  {
   "cell_type": "code",
   "execution_count": 33,
   "metadata": {},
   "outputs": [],
   "source": [
    "with open('./simple.html') as html_file:\n",
    "    soup = BeautifulSoup(html_file, 'lxml')"
   ]
  },
  {
   "cell_type": "markdown",
   "metadata": {},
   "source": [
    "#### printing with prettifly"
   ]
  },
  {
   "cell_type": "code",
   "execution_count": 6,
   "metadata": {
    "scrolled": true
   },
   "outputs": [
    {
     "name": "stdout",
     "output_type": "stream",
     "text": [
      "<!DOCTYPE html>\n",
      "<html lang=\"en\">\n",
      " <head>\n",
      "  <meta charset=\"utf-8\"/>\n",
      "  <title>\n",
      "   The HTML5 test\n",
      "  </title>\n",
      " </head>\n",
      " <body>\n",
      "  <h1 id=\"site_title\">\n",
      "   Teste Website\n",
      "  </h1>\n",
      "  <hr/>\n",
      "  <div class=\"article\">\n",
      "   <h2>\n",
      "    <a href=\"article_1.html\">\n",
      "     Article 1 Headline\n",
      "    </a>\n",
      "   </h2>\n",
      "   <p>\n",
      "    This is a summary of article 1\n",
      "   </p>\n",
      "  </div>\n",
      "  <hr/>\n",
      "  <div class=\"article\">\n",
      "   <h2>\n",
      "    <a href=\"article_2.html\">\n",
      "     Article 2 Headline\n",
      "    </a>\n",
      "   </h2>\n",
      "   <p>\n",
      "    This is a summary of article 2\n",
      "   </p>\n",
      "  </div>\n",
      "  <hr/>\n",
      "  <div class=\"article\">\n",
      "   <h2>\n",
      "    <a href=\"article_2.html\">\n",
      "     Article 3Headline\n",
      "    </a>\n",
      "   </h2>\n",
      "   <p>\n",
      "    This is a summary of article 3\n",
      "   </p>\n",
      "  </div>\n",
      "  <hr/>\n",
      "  <div class=\"footer\">\n",
      "   <p>\n",
      "    Footer information\n",
      "   </p>\n",
      "  </div>\n",
      "  <hr/>\n",
      " </body>\n",
      "</html>\n"
     ]
    }
   ],
   "source": [
    "print(soup.prettify())"
   ]
  },
  {
   "cell_type": "markdown",
   "metadata": {},
   "source": [
    "### Scraping"
   ]
  },
  {
   "cell_type": "code",
   "execution_count": 11,
   "metadata": {},
   "outputs": [
    {
     "name": "stdout",
     "output_type": "stream",
     "text": [
      "<title>The HTML5 test</title>\n",
      "The HTML5 test\n"
     ]
    }
   ],
   "source": [
    "#acessing like an attribute\n",
    "match = soup.title\n",
    "print(match)\n",
    "print(match.text)"
   ]
  },
  {
   "cell_type": "code",
   "execution_count": 13,
   "metadata": {},
   "outputs": [
    {
     "name": "stdout",
     "output_type": "stream",
     "text": [
      "<div class=\"article\">\n",
      "<h2><a href=\"article_1.html\">Article 1 Headline</a></h2>\n",
      "<p>This is a summary of article 1</p>\n",
      "</div>\n"
     ]
    }
   ],
   "source": [
    "match_2 = soup.div\n",
    "print(match_2)"
   ]
  },
  {
   "cell_type": "code",
   "execution_count": 16,
   "metadata": {},
   "outputs": [
    {
     "name": "stdout",
     "output_type": "stream",
     "text": [
      "<div class=\"article\">\n",
      "<h2><a href=\"article_1.html\">Article 1 Headline</a></h2>\n",
      "<p>This is a summary of article 1</p>\n",
      "</div>\n"
     ]
    }
   ],
   "source": [
    "match_3 = soup.find('div')\n",
    "print(match_3)"
   ]
  },
  {
   "cell_type": "code",
   "execution_count": 19,
   "metadata": {},
   "outputs": [
    {
     "name": "stdout",
     "output_type": "stream",
     "text": [
      "<div class=\"footer\">\n",
      "<p>Footer information</p>\n",
      "</div>\n"
     ]
    }
   ],
   "source": [
    "match_4 = soup.find('div', class_= 'footer')\n",
    "print(match_4)"
   ]
  },
  {
   "cell_type": "code",
   "execution_count": 24,
   "metadata": {},
   "outputs": [
    {
     "name": "stdout",
     "output_type": "stream",
     "text": [
      "<div class=\"article\">\n",
      "<h2><a href=\"article_1.html\">Article 1 Headline</a></h2>\n",
      "<p>This is a summary of article 1</p>\n",
      "</div>\n"
     ]
    }
   ],
   "source": [
    "match_5 = soup.find('div', class_= 'article')\n",
    "print(match_5)"
   ]
  },
  {
   "cell_type": "code",
   "execution_count": 27,
   "metadata": {},
   "outputs": [
    {
     "name": "stdout",
     "output_type": "stream",
     "text": [
      "Article 1 Headline\n",
      "This is a summary of article 1\n"
     ]
    }
   ],
   "source": [
    "#h1\n",
    "match_6 = match_5.h2.a.text\n",
    "print(match_6)\n",
    "\n",
    "match_7 = match_5.p.text\n",
    "print(match_7)\n"
   ]
  },
  {
   "cell_type": "code",
   "execution_count": 32,
   "metadata": {},
   "outputs": [
    {
     "name": "stdout",
     "output_type": "stream",
     "text": [
      "Article 1 Headline\n",
      "This is a summary of article 1\n",
      " \n",
      "Article 2 Headline\n",
      "This is a summary of article 2\n",
      " \n",
      "Article 3Headline\n",
      "This is a summary of article 3\n",
      " \n"
     ]
    }
   ],
   "source": [
    "all_divs = soup.find_all('div', class_='article')\n",
    "for i in all_divs:\n",
    "    print(i.h2.a.text)\n",
    "    print(i.p.text)\n",
    "\n",
    "    print(\" \")"
   ]
  },
  {
   "cell_type": "markdown",
   "metadata": {},
   "source": [
    "### Scraping from sites"
   ]
  },
  {
   "cell_type": "code",
   "execution_count": 35,
   "metadata": {},
   "outputs": [],
   "source": [
    "source = requests.get('https://scrapethissite.com/pages/').text\n",
    "soup_2 = BeautifulSoup(source)"
   ]
  },
  {
   "cell_type": "code",
   "execution_count": 37,
   "metadata": {
    "scrolled": true
   },
   "outputs": [
    {
     "name": "stdout",
     "output_type": "stream",
     "text": [
      "<!DOCTYPE html>\n",
      "<html lang=\"en\">\n",
      " <head>\n",
      "  <meta charset=\"utf-8\"/>\n",
      "  <title>\n",
      "   Learn Web Scraping | Scrape This Site | A public sandbox for learning web scraping\n",
      "  </title>\n",
      "  <link href=\"/static/images/scraper-icon.png\" rel=\"icon\" type=\"image/png\"/>\n",
      "  <meta content=\"width=device-width, initial-scale=1.0\" name=\"viewport\"/>\n",
      "  <meta content=\"Here are some practice pages you can scrape.\" name=\"description\"/>\n",
      "  <link crossorigin=\"anonymous\" href=\"https://maxcdn.bootstrapcdn.com/bootstrap/3.3.5/css/bootstrap.min.css\" integrity=\"sha256-MfvZlkHCEqatNoGiOXveE8FIwMzZg4W85qfrfIFBfYc= sha512-dTfge/zgoMYpP7QbHy4gWMEGsbsdZeCXz7irItjcC3sPUFtf0kuFbDz/ixG7ArTxmDjLXDmezHubeNikyKGVyQ==\" rel=\"stylesheet\"/>\n",
      "  <link href=\"https://fonts.googleapis.com/css?family=Lato:400,700\" rel=\"stylesheet\" type=\"text/css\"/>\n",
      "  <link href=\"/static/css/styles.css\" rel=\"stylesheet\" type=\"text/css\"/>\n",
      " </head>\n",
      " <body>\n",
      "  <nav id=\"site-nav\">\n",
      "   <div class=\"container\">\n",
      "    <div class=\"col-md-12\">\n",
      "     <ul class=\"nav nav-tabs\">\n",
      "      <li id=\"nav-homepage\">\n",
      "       <a class=\"nav-link hidden-sm hidden-xs\" href=\"/\">\n",
      "        <img id=\"nav-logo\" src=\"/static/images/scraper-icon.png\"/>\n",
      "        Scrape This Site\n",
      "       </a>\n",
      "      </li>\n",
      "      <li id=\"nav-sandbox\">\n",
      "       <a class=\"nav-link\" href=\"/pages/\">\n",
      "        <i class=\"glyphicon glyphicon-console hidden-sm hidden-xs\">\n",
      "        </i>\n",
      "        Sandbox\n",
      "       </a>\n",
      "      </li>\n",
      "      <li id=\"nav-lessons\">\n",
      "       <a class=\"nav-link\" href=\"/lessons/\">\n",
      "        <i class=\"glyphicon glyphicon-education hidden-sm hidden-xs\">\n",
      "        </i>\n",
      "        Lessons\n",
      "       </a>\n",
      "      </li>\n",
      "      <li id=\"nav-faq\">\n",
      "       <a class=\"nav-link\" href=\"/faq/\">\n",
      "        <i class=\"glyphicon glyphicon-flag hidden-sm hidden-xs\">\n",
      "        </i>\n",
      "        FAQ\n",
      "       </a>\n",
      "      </li>\n",
      "      <li class=\"pull-right\" id=\"nav-login\">\n",
      "       <a class=\"nav-link\" href=\"/login/\">\n",
      "        Login\n",
      "       </a>\n",
      "      </li>\n",
      "     </ul>\n",
      "    </div>\n",
      "   </div>\n",
      "  </nav>\n",
      "  <script type=\"text/javascript\">\n",
      "   var path = document.location.pathname;\n",
      "            var tab = undefined;\n",
      "            if (path === \"/\"){\n",
      "                tab = document.querySelector(\"#nav-homepage\");\n",
      "            } else if (path.indexOf(\"/faq/\") === 0){\n",
      "                tab = document.querySelector(\"#nav-faq\");\n",
      "            } else if (path.indexOf(\"/lessons/\") === 0){\n",
      "                tab = document.querySelector(\"#nav-lessons\");\n",
      "            } else if (path.indexOf(\"/pages/\") === 0) {\n",
      "                tab = document.querySelector(\"#nav-sandbox\");\n",
      "            } else if (path.indexOf(\"/login/\") === 0) {\n",
      "                tab = document.querySelector(\"#nav-login\");\n",
      "            }\n",
      "            tab.classList.add(\"active\")\n",
      "  </script>\n",
      "  <div id=\"pages\">\n",
      "   <section>\n",
      "    <div class=\"container\">\n",
      "     <div class=\"row\">\n",
      "      <div class=\"col-md-6 col-md-offset-3\">\n",
      "       <h1>\n",
      "        Web Scraping Sandbox\n",
      "       </h1>\n",
      "       <hr/>\n",
      "       <div class=\"page\">\n",
      "        <h3 class=\"page-title\">\n",
      "         <a href=\"/pages/simple/\">\n",
      "          Countries of the World: A Simple Example\n",
      "         </a>\n",
      "        </h3>\n",
      "        <p class=\"lead session-desc\">\n",
      "         A single page that lists information about all the countries in the world. Good for those just get started with web scraping.\n",
      "        </p>\n",
      "        <hr/>\n",
      "       </div>\n",
      "       <!--.page-->\n",
      "       <div class=\"page\">\n",
      "        <h3 class=\"page-title\">\n",
      "         <a href=\"/pages/forms/\">\n",
      "          Hockey Teams: Forms, Searching and Pagination\n",
      "         </a>\n",
      "        </h3>\n",
      "        <p class=\"lead session-desc\">\n",
      "         Browse through a database of NHL team stats since 1990. Practice building a scraper that handles common website interface components.\n",
      "        </p>\n",
      "        <hr/>\n",
      "       </div>\n",
      "       <!--.page-->\n",
      "       <div class=\"page\">\n",
      "        <h3 class=\"page-title\">\n",
      "         <a href=\"/pages/ajax-javascript/\">\n",
      "          Oscar Winning Films: AJAX and Javascript\n",
      "         </a>\n",
      "        </h3>\n",
      "        <p class=\"lead session-desc\">\n",
      "         Click through a bunch of great films. Learn how content is added to the page asynchronously with Javascript and how you can scrape it.\n",
      "        </p>\n",
      "        <hr/>\n",
      "       </div>\n",
      "       <!--.page-->\n",
      "       <div class=\"page\">\n",
      "        <h3 class=\"page-title\">\n",
      "         <a href=\"/pages/frames/\">\n",
      "          Turtles All the Way Down: Frames &amp; iFrames\n",
      "         </a>\n",
      "        </h3>\n",
      "        <p class=\"lead session-desc\">\n",
      "         Some older sites might still use frames to break up thier pages. Modern ones might be using iFrames to expose data. Learn about turtles as you scrape content inside frames.\n",
      "        </p>\n",
      "        <hr/>\n",
      "       </div>\n",
      "       <!--.page-->\n",
      "       <div class=\"page\">\n",
      "        <h3 class=\"page-title\">\n",
      "         <a href=\"/pages/advanced/\">\n",
      "          Advanced Topics: Real World Challenges You'll Encounter\n",
      "         </a>\n",
      "        </h3>\n",
      "        <p class=\"lead session-desc\">\n",
      "         Scraping real websites, you're likely run into a number of common gotchas. Get practice with spoofing headers, handling logins &amp; session cookies, finding CSRF tokens, and other common network errors.\n",
      "        </p>\n",
      "        <hr/>\n",
      "       </div>\n",
      "       <!--.page-->\n",
      "      </div>\n",
      "      <!--.col-->\n",
      "     </div>\n",
      "     <!--.row-->\n",
      "    </div>\n",
      "    <!--.container-->\n",
      "   </section>\n",
      "  </div>\n",
      "  <section id=\"footer\">\n",
      "   <div class=\"container\">\n",
      "    <div class=\"row\">\n",
      "     <div class=\"col-md-12 text-center text-muted\">\n",
      "      Lessons and Videos © Hartley Brody 2018\n",
      "     </div>\n",
      "     <!--.col-->\n",
      "    </div>\n",
      "    <!--.row-->\n",
      "   </div>\n",
      "   <!--.container-->\n",
      "  </section>\n",
      " </body>\n",
      " <script src=\"https://ajax.googleapis.com/ajax/libs/jquery/1.11.3/jquery.min.js\">\n",
      " </script>\n",
      " <script crossorigin=\"anonymous\" integrity=\"sha256-Sk3nkD6mLTMOF0EOpNtsIry+s1CsaqQC1rVLTAy+0yc= sha512-K1qjQ+NcF2TYO/eI3M6v8EiNYZfA95pQumfvcVrTHtwQVDG+aHRqLi/ETn2uB+1JqwYqVG3LIvdm9lj6imS/pQ==\" src=\"https://maxcdn.bootstrapcdn.com/bootstrap/3.3.5/js/bootstrap.min.js\">\n",
      " </script>\n",
      " <script src=\"https://cdnjs.cloudflare.com/ajax/libs/pnotify/2.1.0/pnotify.core.min.js\">\n",
      " </script>\n",
      " <link href=\"https://cdnjs.cloudflare.com/ajax/libs/pnotify/2.1.0/pnotify.core.min.css\" rel=\"stylesheet\" type=\"text/css\"/>\n",
      " <!-- pnotify messages -->\n",
      " <script type=\"text/javascript\">\n",
      "  PNotify.prototype.options.styling = \"bootstrap3\";\n",
      "    $(function(){\n",
      "      \n",
      "    });\n",
      "    \n",
      "\n",
      "    $(function () {\n",
      "      $('[data-toggle=\"tooltip\"]').tooltip()\n",
      "    })\n",
      " </script>\n",
      " <!-- golbal video controls -->\n",
      " <script type=\"text/javascript\">\n",
      "  $(\"video\").hover(function() {\n",
      "        $(this).prop(\"controls\", true);\n",
      "    }, function() {\n",
      "        $(this).prop(\"controls\", false);\n",
      "    });\n",
      "\n",
      "    $(\"video\").click(function() {\n",
      "        if( this.paused){\n",
      "            this.play();\n",
      "        }\n",
      "        else {\n",
      "            this.pause();\n",
      "        }\n",
      "    });\n",
      " </script>\n",
      " <!-- insert google analytics here -->\n",
      " <script>\n",
      "  (function(i,s,o,g,r,a,m){i['GoogleAnalyticsObject']=r;i[r]=i[r]||function(){\n",
      "    (i[r].q=i[r].q||[]).push(arguments)},i[r].l=1*new Date();a=s.createElement(o),\n",
      "    m=s.getElementsByTagName(o)[0];a.async=1;a.src=g;m.parentNode.insertBefore(a,m)\n",
      "    })(window,document,'script','https://www.google-analytics.com/analytics.js','ga');\n",
      "\n",
      "    ga('create', 'UA-41551755-8', 'auto');\n",
      "    ga('send', 'pageview');\n",
      " </script>\n",
      " <!-- Facebook Pixel Code -->\n",
      " <script>\n",
      "  !function(f,b,e,v,n,t,s){if(f.fbq)return;n=f.fbq=function(){n.callMethod?\n",
      "  n.callMethod.apply(n,arguments):n.queue.push(arguments)};if(!f._fbq)f._fbq=n;\n",
      "  n.push=n;n.loaded=!0;n.version='2.0';n.queue=[];t=b.createElement(e);t.async=!0;\n",
      "  t.src=v;s=b.getElementsByTagName(e)[0];s.parentNode.insertBefore(t,s)}(window,\n",
      "  document,'script','https://connect.facebook.net/en_US/fbevents.js');\n",
      "\n",
      "  fbq('init', '764287443701341');\n",
      "  fbq('track', \"PageView\");\n",
      " </script>\n",
      " <noscript>\n",
      "  <img height=\"1\" src=\"https://www.facebook.com/tr?id=764287443701341&amp;ev=PageView&amp;noscript=1\" style=\"display:none\" width=\"1\"/>\n",
      " </noscript>\n",
      " <!-- End Facebook Pixel Code -->\n",
      " <!-- Google Code for Remarketing Tag -->\n",
      " <script type=\"text/javascript\">\n",
      "  /* <![CDATA[ */\n",
      "    var google_conversion_id = 950945448;\n",
      "    var google_custom_params = window.google_tag_params;\n",
      "    var google_remarketing_only = true;\n",
      "    /* ]]> */\n",
      " </script>\n",
      " <script src=\"//www.googleadservices.com/pagead/conversion.js\" type=\"text/javascript\">\n",
      " </script>\n",
      " <noscript>\n",
      "  <div style=\"display:inline;\">\n",
      "   <img alt=\"\" height=\"1\" src=\"//googleads.g.doubleclick.net/pagead/viewthroughconversion/950945448/?guid=ON&amp;script=0\" style=\"border-style:none;\" width=\"1\"/>\n",
      "  </div>\n",
      " </noscript>\n",
      " <!-- Global site tag (gtag.js) - Google AdWords: 950945448 -->\n",
      " <script async=\"\" src=\"https://www.googletagmanager.com/gtag/js?id=AW-950945448\">\n",
      " </script>\n",
      " <script>\n",
      "  window.dataLayer = window.dataLayer || [];\n",
      "   function gtag(){dataLayer.push(arguments);}\n",
      "   gtag('js', new Date());\n",
      "\n",
      "   gtag('config', 'AW-950945448');\n",
      " </script>\n",
      "</html>\n"
     ]
    }
   ],
   "source": [
    "print(soup_2.prettify())"
   ]
  },
  {
   "cell_type": "code",
   "execution_count": 56,
   "metadata": {},
   "outputs": [
    {
     "name": "stdout",
     "output_type": "stream",
     "text": [
      "\n",
      "                                A single page that lists information about all the countries in the world. Good for those just get started with web scraping.\n",
      "                            \n"
     ]
    }
   ],
   "source": [
    "pclass = soup_2.find('p')\n",
    "print(pclass.text)    "
   ]
  }
 ],
 "metadata": {
  "kernelspec": {
   "display_name": "Python 3",
   "language": "python",
   "name": "python3"
  },
  "language_info": {
   "codemirror_mode": {
    "name": "ipython",
    "version": 3
   },
   "file_extension": ".py",
   "mimetype": "text/x-python",
   "name": "python",
   "nbconvert_exporter": "python",
   "pygments_lexer": "ipython3",
   "version": "3.7.3"
  }
 },
 "nbformat": 4,
 "nbformat_minor": 2
}
