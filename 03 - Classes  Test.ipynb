{
 "cells": [
  {
   "cell_type": "markdown",
   "metadata": {},
   "source": [
    "# Criando a classe"
   ]
  },
  {
   "cell_type": "code",
   "execution_count": 1,
   "metadata": {},
   "outputs": [],
   "source": [
    "class Cars:\n",
    "    #method\n",
    "    aument_pot = 1.1\n",
    "    \n",
    "    def __init__ (self, modelo, motor, potencia,portas = 0):\n",
    "        self.modelo = modelo\n",
    "        self.portas = portas\n",
    "        self.motor = motor\n",
    "        self.potencia = potencia\n",
    "        \n",
    "        \n",
    "    def item(self):\n",
    "        return '{}, {}, {}, {}hp'.format(self.modelo, self.portas, self.motor, self.potencia)\n",
    "    \n",
    "    def aumenta_pot(self):\n",
    "        self.potencia = self.potencia*self.aument_pot\n",
    "        \n",
    "    @classmethod\n",
    "    def de_str(cls, car_str):\n",
    "        modelo, portas, motor, potencia = car_str.split('-')\n",
    "        return cls(modelo,portas,motor,potencia)\n",
    "    \n",
    "    def __repr__(self):\n",
    "        return \"Cars('{}','{}','{}','{}')\".format(self.modelo,self.motor,self.potencia,self.portas)\n",
    "    \n",
    "    def __str(self):\n",
    "        return \"{}-{}-{}-{}\".format(self.modelo,self.motor,self.potencia,self.portas)"
   ]
  },
  {
   "cell_type": "code",
   "execution_count": 2,
   "metadata": {},
   "outputs": [],
   "source": [
    "#inheritance\n",
    "class Motocicleta(Cars):\n",
    "    def __init__(self,modelo,motor,potencia,tipo):\n",
    "        super().__init__(modelo,motor,potencia, portas = 0)\n",
    "        self.tipo = tipo\n",
    "        "
   ]
  },
  {
   "cell_type": "markdown",
   "metadata": {},
   "source": [
    "# Criando os itens"
   ]
  },
  {
   "cell_type": "code",
   "execution_count": 3,
   "metadata": {},
   "outputs": [],
   "source": [
    "car_01= Cars('Civic','2.0 l', 140,3) \n",
    "car_02= Cars('Toyota','2.0 l', 130,5)"
   ]
  },
  {
   "cell_type": "code",
   "execution_count": 4,
   "metadata": {},
   "outputs": [
    {
     "data": {
      "text/plain": [
       "'Civic'"
      ]
     },
     "execution_count": 4,
     "metadata": {},
     "output_type": "execute_result"
    }
   ],
   "source": [
    "car_01.modelo"
   ]
  },
  {
   "cell_type": "code",
   "execution_count": 5,
   "metadata": {},
   "outputs": [
    {
     "data": {
      "text/plain": [
       "'Civic, 3, 2.0 l, 140hp'"
      ]
     },
     "execution_count": 5,
     "metadata": {},
     "output_type": "execute_result"
    }
   ],
   "source": [
    "car_01.item()"
   ]
  },
  {
   "cell_type": "code",
   "execution_count": 6,
   "metadata": {},
   "outputs": [
    {
     "name": "stdout",
     "output_type": "stream",
     "text": [
      "140\n"
     ]
    }
   ],
   "source": [
    "print(car_01.potencia)\n",
    "car_01.aumenta_pot()"
   ]
  },
  {
   "cell_type": "code",
   "execution_count": 7,
   "metadata": {},
   "outputs": [
    {
     "name": "stdout",
     "output_type": "stream",
     "text": [
      "154.0\n"
     ]
    }
   ],
   "source": [
    "print(car_01.potencia)"
   ]
  },
  {
   "cell_type": "markdown",
   "metadata": {},
   "source": [
    "## Mostrando os atributos"
   ]
  },
  {
   "cell_type": "code",
   "execution_count": 8,
   "metadata": {},
   "outputs": [
    {
     "data": {
      "text/plain": [
       "{'modelo': 'Civic', 'portas': 3, 'motor': '2.0 l', 'potencia': 154.0}"
      ]
     },
     "execution_count": 8,
     "metadata": {},
     "output_type": "execute_result"
    }
   ],
   "source": [
    "car_01.__dict__"
   ]
  },
  {
   "cell_type": "code",
   "execution_count": 9,
   "metadata": {},
   "outputs": [
    {
     "data": {
      "text/plain": [
       "mappingproxy({'__module__': '__main__',\n",
       "              'aument_pot': 1.1,\n",
       "              '__init__': <function __main__.Cars.__init__(self, modelo, motor, potencia, portas=0)>,\n",
       "              'item': <function __main__.Cars.item(self)>,\n",
       "              'aumenta_pot': <function __main__.Cars.aumenta_pot(self)>,\n",
       "              'de_str': <classmethod at 0x26a675e9ba8>,\n",
       "              '__repr__': <function __main__.Cars.__repr__(self)>,\n",
       "              '_Cars__str': <function __main__.Cars.__str(self)>,\n",
       "              '__dict__': <attribute '__dict__' of 'Cars' objects>,\n",
       "              '__weakref__': <attribute '__weakref__' of 'Cars' objects>,\n",
       "              '__doc__': None})"
      ]
     },
     "execution_count": 9,
     "metadata": {},
     "output_type": "execute_result"
    }
   ],
   "source": [
    "Cars.__dict__"
   ]
  },
  {
   "cell_type": "markdown",
   "metadata": {},
   "source": [
    "## Transformando de uma string"
   ]
  },
  {
   "cell_type": "code",
   "execution_count": 10,
   "metadata": {},
   "outputs": [],
   "source": [
    "car_str_01 = 'Mitsubishi-3-2.3 l-180'"
   ]
  },
  {
   "cell_type": "code",
   "execution_count": 11,
   "metadata": {},
   "outputs": [
    {
     "data": {
      "text/plain": [
       "{'modelo': 'Mitsubishi', 'portas': '180', 'motor': '3', 'potencia': '2.3 l'}"
      ]
     },
     "execution_count": 11,
     "metadata": {},
     "output_type": "execute_result"
    }
   ],
   "source": [
    "car_03 = Cars.de_str(car_str_01)\n",
    "car_03.__dict__"
   ]
  },
  {
   "cell_type": "markdown",
   "metadata": {},
   "source": [
    "## Classe vinculada"
   ]
  },
  {
   "cell_type": "code",
   "execution_count": 12,
   "metadata": {},
   "outputs": [
    {
     "data": {
      "text/plain": [
       "{'modelo': 'biz',\n",
       " 'portas': 0,\n",
       " 'motor': '500cc',\n",
       " 'potencia': 25,\n",
       " 'tipo': 'street'}"
      ]
     },
     "execution_count": 12,
     "metadata": {},
     "output_type": "execute_result"
    }
   ],
   "source": [
    "moto_01 = Motocicleta('biz', '500cc',25, 'street')\n",
    "moto_01.__dict__"
   ]
  },
  {
   "cell_type": "markdown",
   "metadata": {},
   "source": [
    "## Special methods"
   ]
  },
  {
   "cell_type": "code",
   "execution_count": 13,
   "metadata": {},
   "outputs": [
    {
     "data": {
      "text/plain": [
       "\"Cars('Civic','2.0 l','154.0','3')\""
      ]
     },
     "execution_count": 13,
     "metadata": {},
     "output_type": "execute_result"
    }
   ],
   "source": [
    "repr(car_01)"
   ]
  },
  {
   "cell_type": "code",
   "execution_count": 14,
   "metadata": {},
   "outputs": [
    {
     "data": {
      "text/plain": [
       "\"Cars('Civic','2.0 l','154.0','3')\""
      ]
     },
     "execution_count": 14,
     "metadata": {},
     "output_type": "execute_result"
    }
   ],
   "source": [
    "str(car_01)"
   ]
  }
 ],
 "metadata": {
  "kernelspec": {
   "display_name": "Python 3",
   "language": "python",
   "name": "python3"
  },
  "language_info": {
   "codemirror_mode": {
    "name": "ipython",
    "version": 3
   },
   "file_extension": ".py",
   "mimetype": "text/x-python",
   "name": "python",
   "nbconvert_exporter": "python",
   "pygments_lexer": "ipython3",
   "version": "3.7.0"
  }
 },
 "nbformat": 4,
 "nbformat_minor": 2
}
